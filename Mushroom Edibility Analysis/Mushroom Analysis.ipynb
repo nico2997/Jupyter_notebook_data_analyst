{
 "cells": [
  {
   "cell_type": "code",
   "execution_count": 1,
   "metadata": {},
   "outputs": [
    {
     "data": {
      "text/html": [
       "<div>\n",
       "<style scoped>\n",
       "    .dataframe tbody tr th:only-of-type {\n",
       "        vertical-align: middle;\n",
       "    }\n",
       "\n",
       "    .dataframe tbody tr th {\n",
       "        vertical-align: top;\n",
       "    }\n",
       "\n",
       "    .dataframe thead th {\n",
       "        text-align: right;\n",
       "    }\n",
       "</style>\n",
       "<table border=\"1\" class=\"dataframe\">\n",
       "  <thead>\n",
       "    <tr style=\"text-align: right;\">\n",
       "      <th></th>\n",
       "      <th>Edible</th>\n",
       "      <th>CapShape</th>\n",
       "      <th>CapSurface</th>\n",
       "      <th>CapColor</th>\n",
       "      <th>Odor</th>\n",
       "      <th>Height</th>\n",
       "    </tr>\n",
       "  </thead>\n",
       "  <tbody>\n",
       "    <tr>\n",
       "      <td>0</td>\n",
       "      <td>Poisonous</td>\n",
       "      <td>Convex</td>\n",
       "      <td>Smooth</td>\n",
       "      <td>Brown</td>\n",
       "      <td>Pungent</td>\n",
       "      <td>Tall</td>\n",
       "    </tr>\n",
       "    <tr>\n",
       "      <td>1</td>\n",
       "      <td>Edible</td>\n",
       "      <td>Convex</td>\n",
       "      <td>Smooth</td>\n",
       "      <td>Yellow</td>\n",
       "      <td>Almond</td>\n",
       "      <td>Short</td>\n",
       "    </tr>\n",
       "    <tr>\n",
       "      <td>2</td>\n",
       "      <td>Edible</td>\n",
       "      <td>Bell</td>\n",
       "      <td>Smooth</td>\n",
       "      <td>White</td>\n",
       "      <td>Anise</td>\n",
       "      <td>Tall</td>\n",
       "    </tr>\n",
       "    <tr>\n",
       "      <td>3</td>\n",
       "      <td>Poisonous</td>\n",
       "      <td>Convex</td>\n",
       "      <td>Scaly</td>\n",
       "      <td>White</td>\n",
       "      <td>Pungent</td>\n",
       "      <td>Short</td>\n",
       "    </tr>\n",
       "    <tr>\n",
       "      <td>4</td>\n",
       "      <td>Edible</td>\n",
       "      <td>Convex</td>\n",
       "      <td>Smooth</td>\n",
       "      <td>Gray</td>\n",
       "      <td>None</td>\n",
       "      <td>Short</td>\n",
       "    </tr>\n",
       "    <tr>\n",
       "      <td>...</td>\n",
       "      <td>...</td>\n",
       "      <td>...</td>\n",
       "      <td>...</td>\n",
       "      <td>...</td>\n",
       "      <td>...</td>\n",
       "      <td>...</td>\n",
       "    </tr>\n",
       "    <tr>\n",
       "      <td>8119</td>\n",
       "      <td>Edible</td>\n",
       "      <td>Knobbed</td>\n",
       "      <td>Smooth</td>\n",
       "      <td>Brown</td>\n",
       "      <td>None</td>\n",
       "      <td>Tall</td>\n",
       "    </tr>\n",
       "    <tr>\n",
       "      <td>8120</td>\n",
       "      <td>Edible</td>\n",
       "      <td>Convex</td>\n",
       "      <td>Smooth</td>\n",
       "      <td>Brown</td>\n",
       "      <td>None</td>\n",
       "      <td>Tall</td>\n",
       "    </tr>\n",
       "    <tr>\n",
       "      <td>8121</td>\n",
       "      <td>Edible</td>\n",
       "      <td>Flat</td>\n",
       "      <td>Smooth</td>\n",
       "      <td>Brown</td>\n",
       "      <td>None</td>\n",
       "      <td>Short</td>\n",
       "    </tr>\n",
       "    <tr>\n",
       "      <td>8122</td>\n",
       "      <td>Poisonous</td>\n",
       "      <td>Knobbed</td>\n",
       "      <td>Scaly</td>\n",
       "      <td>Brown</td>\n",
       "      <td>Fishy</td>\n",
       "      <td>Short</td>\n",
       "    </tr>\n",
       "    <tr>\n",
       "      <td>8123</td>\n",
       "      <td>Edible</td>\n",
       "      <td>Convex</td>\n",
       "      <td>Smooth</td>\n",
       "      <td>Brown</td>\n",
       "      <td>None</td>\n",
       "      <td>Tall</td>\n",
       "    </tr>\n",
       "  </tbody>\n",
       "</table>\n",
       "<p>8124 rows × 6 columns</p>\n",
       "</div>"
      ],
      "text/plain": [
       "         Edible CapShape CapSurface CapColor     Odor Height\n",
       "0     Poisonous   Convex     Smooth    Brown  Pungent   Tall\n",
       "1        Edible   Convex     Smooth   Yellow   Almond  Short\n",
       "2        Edible     Bell     Smooth    White    Anise   Tall\n",
       "3     Poisonous   Convex      Scaly    White  Pungent  Short\n",
       "4        Edible   Convex     Smooth     Gray     None  Short\n",
       "...         ...      ...        ...      ...      ...    ...\n",
       "8119     Edible  Knobbed     Smooth    Brown     None   Tall\n",
       "8120     Edible   Convex     Smooth    Brown     None   Tall\n",
       "8121     Edible     Flat     Smooth    Brown     None  Short\n",
       "8122  Poisonous  Knobbed      Scaly    Brown    Fishy  Short\n",
       "8123     Edible   Convex     Smooth    Brown     None   Tall\n",
       "\n",
       "[8124 rows x 6 columns]"
      ]
     },
     "execution_count": 1,
     "metadata": {},
     "output_type": "execute_result"
    }
   ],
   "source": [
    "import pandas as pd\n",
    "import numpy as np \n",
    "from sklearn.ensemble import RandomForestClassifier\n",
    "from sklearn.metrics import classification_report, confusion_matrix\n",
    "from sklearn.model_selection import train_test_split\n",
    "from sklearn.metrics import accuracy_score\n",
    "\n",
    "mushroom_data = pd.read_csv(\"mushrooms.csv\")\n",
    "mushroom_data"
   ]
  },
  {
   "cell_type": "code",
   "execution_count": 2,
   "metadata": {},
   "outputs": [],
   "source": [
    "from sklearn import preprocessing\n",
    "\n",
    "label = preprocessing.LabelEncoder()\n",
    "new_shape = label.fit_transform(mushroom_data['CapShape'])\n",
    "new_surface = label.fit_transform(mushroom_data['CapSurface'])\n",
    "new_color = label.fit_transform(mushroom_data['CapColor'])\n",
    "new_odor = label.fit_transform(mushroom_data['Odor'])\n",
    "new_height = label.fit_transform(mushroom_data['Height'])"
   ]
  },
  {
   "cell_type": "code",
   "execution_count": 3,
   "metadata": {
    "scrolled": true
   },
   "outputs": [
    {
     "data": {
      "text/plain": [
       "array([[2, 3, 0, 7, 1],\n",
       "       [2, 3, 9, 0, 0],\n",
       "       [0, 3, 8, 1, 1],\n",
       "       ...,\n",
       "       [3, 3, 0, 6, 0],\n",
       "       [4, 2, 0, 3, 0],\n",
       "       [2, 3, 0, 6, 1]], dtype=object)"
      ]
     },
     "execution_count": 3,
     "metadata": {},
     "output_type": "execute_result"
    }
   ],
   "source": [
    "X= mushroom_data[['CapShape', 'CapSurface', 'CapColor', 'Odor', 'Height']].values\n",
    "X[:,0] = new_shape\n",
    "X[:,1] = new_surface\n",
    "X[:,2] = new_color\n",
    "X[:,3] = new_odor\n",
    "X[:,4] = new_height\n",
    "X"
   ]
  },
  {
   "cell_type": "code",
   "execution_count": 4,
   "metadata": {},
   "outputs": [],
   "source": [
    "new_shape = new_shape.reshape(-1,1)\n",
    "new_surface = new_surface.reshape(-1,1)\n",
    "new_color = new_color.reshape(-1,1)\n",
    "new_odor = new_odor.reshape(-1,1)\n",
    "new_height = new_height.reshape(-1,1)"
   ]
  },
  {
   "cell_type": "code",
   "execution_count": 5,
   "metadata": {},
   "outputs": [
    {
     "data": {
      "text/plain": [
       "0       Poisonous\n",
       "1          Edible\n",
       "2          Edible\n",
       "3       Poisonous\n",
       "4          Edible\n",
       "          ...    \n",
       "8119       Edible\n",
       "8120       Edible\n",
       "8121       Edible\n",
       "8122    Poisonous\n",
       "8123       Edible\n",
       "Name: Edible, Length: 8124, dtype: object"
      ]
     },
     "execution_count": 5,
     "metadata": {},
     "output_type": "execute_result"
    }
   ],
   "source": [
    "y = mushroom_data['Edible']\n",
    "y"
   ]
  },
  {
   "cell_type": "code",
   "execution_count": 6,
   "metadata": {},
   "outputs": [],
   "source": [
    "from sklearn.model_selection import train_test_split\n",
    "\n",
    "X_train, X_test, y_train, y_test = train_test_split(X, y, test_size = 0.3, random_state = 1)"
   ]
  },
  {
   "cell_type": "code",
   "execution_count": 7,
   "metadata": {},
   "outputs": [
    {
     "data": {
      "text/plain": [
       "array(['Edible', 'Poisonous', 'Poisonous', ..., 'Poisonous', 'Edible',\n",
       "       'Poisonous'], dtype=object)"
      ]
     },
     "execution_count": 7,
     "metadata": {},
     "output_type": "execute_result"
    }
   ],
   "source": [
    "rand_forest = RandomForestClassifier(n_estimators=200)\n",
    "rand_forest.fit(X_train, y_train)\n",
    "\n",
    "y_pred = rand_forest.predict(X_test)\n",
    "y_pred"
   ]
  },
  {
   "cell_type": "code",
   "execution_count": 8,
   "metadata": {
    "scrolled": true
   },
   "outputs": [
    {
     "name": "stdout",
     "output_type": "stream",
     "text": [
      "Accuracy for all variable = 0.9889253486464314\n",
      "[[1231    5]\n",
      " [  22 1180]]\n"
     ]
    }
   ],
   "source": [
    "acc = accuracy_score(y_test, y_pred)\n",
    "print(f\"Accuracy for all variable = {acc}\")\n",
    "\n",
    "cfm = confusion_matrix(y_test, y_pred)\n",
    "print(cfm)"
   ]
  },
  {
   "cell_type": "code",
   "execution_count": 9,
   "metadata": {},
   "outputs": [],
   "source": [
    "X1_train, X1_test, y1_train, y1_test = train_test_split(new_shape, y, test_size = 0.3, random_state = 1)\n",
    "X2_train, X2_test, y2_train, y2_test = train_test_split(new_surface, y, test_size = 0.3, random_state = 1)\n",
    "X3_train, X3_test, y3_train, y3_test = train_test_split(new_color, y, test_size = 0.3, random_state = 1)\n",
    "X4_train, X4_test, y4_train, y4_test = train_test_split(new_odor, y, test_size = 0.3, random_state = 1)\n",
    "X5_train, X5_test, y5_train, y5_test = train_test_split(new_height, y, test_size = 0.3, random_state = 1)"
   ]
  },
  {
   "cell_type": "code",
   "execution_count": 10,
   "metadata": {},
   "outputs": [],
   "source": [
    "model1 = RandomForestClassifier(n_estimators=200)\n",
    "model2 = RandomForestClassifier(n_estimators=200)\n",
    "model3 = RandomForestClassifier(n_estimators=200)\n",
    "model4 = RandomForestClassifier(n_estimators=200)\n",
    "model5 = RandomForestClassifier(n_estimators=200)\n",
    "\n",
    "model1.fit(X1_train, y_train)\n",
    "model2.fit(X2_train, y_train)\n",
    "model3.fit(X3_train, y_train)\n",
    "model4.fit(X4_train, y_train)\n",
    "model5.fit(X5_train, y_train)\n",
    "\n",
    "y1_pred = model1.predict(X1_test)\n",
    "y2_pred = model2.predict(X2_test)\n",
    "y3_pred = model3.predict(X3_test)\n",
    "y4_pred = model4.predict(X4_test)\n",
    "y5_pred = model5.predict(X5_test)"
   ]
  },
  {
   "cell_type": "markdown",
   "metadata": {},
   "source": [
    "## Use 'For-Loop' to print accuracy and confusion matrix"
   ]
  },
  {
   "cell_type": "code",
   "execution_count": 11,
   "metadata": {},
   "outputs": [
    {
     "data": {
      "text/plain": [
       "['CapShape', 'CapSurface', 'CapColor', 'Odor', 'Height']"
      ]
     },
     "execution_count": 11,
     "metadata": {},
     "output_type": "execute_result"
    }
   ],
   "source": [
    "column_name = mushroom_data.columns[1:6].to_list()\n",
    "column_name"
   ]
  },
  {
   "cell_type": "markdown",
   "metadata": {},
   "source": [
    "__Possible model for combination of all 5 input (31 models total)__"
   ]
  },
  {
   "cell_type": "code",
   "execution_count": 12,
   "metadata": {},
   "outputs": [
    {
     "data": {
      "text/plain": [
       "31"
      ]
     },
     "execution_count": 12,
     "metadata": {},
     "output_type": "execute_result"
    }
   ],
   "source": [
    "from itertools import permutations, combinations\n",
    "  \n",
    "# Get all 31 Combinations\n",
    "combs_1 = ['CapShape', 'CapSurface', 'CapColor', 'Odor', 'Height'] \n",
    "combs_2 = combinations(['CapShape', 'CapSurface', 'CapColor', 'Odor', 'Height'],2)  \n",
    "combs_3 = combinations(['CapShape', 'CapSurface', 'CapColor', 'Odor', 'Height'],3)  \n",
    "combs_4 = combinations(['CapShape', 'CapSurface', 'CapColor', 'Odor', 'Height'],4)  \n",
    "combs_5 = combinations(['CapShape', 'CapSurface', 'CapColor', 'Odor', 'Height'],5)  \n",
    "\n",
    "a = []\n",
    "b = []\n",
    "c = []\n",
    "d = []\n",
    "e = []\n",
    "\n",
    "# Print the obtained permutations  \n",
    "for i in list(combs_1):  \n",
    "    a.append([i])\n",
    "    \n",
    "for i in list(combs_2):  \n",
    "    b.append([i])\n",
    "\n",
    "for i in list(combs_3):  \n",
    "    c.append([i])\n",
    "\n",
    "for i in list(combs_4):  \n",
    "    d.append([i])\n",
    "\n",
    "for i in list(combs_5):  \n",
    "    e.append([i])\n",
    "    \n",
    "    #print (a[i])  \n",
    "x = a+b+c+d+e\n",
    "len(x)"
   ]
  },
  {
   "cell_type": "code",
   "execution_count": 13,
   "metadata": {},
   "outputs": [
    {
     "name": "stdout",
     "output_type": "stream",
     "text": [
      "Accuracy for CapShape: 0.5512715340442986, which has confusion matrix \n",
      " [[1177   59]\n",
      " [1035  167]]\n",
      "Accuracy for CapSurface: 0.5824446267432322, which has confusion matrix \n",
      " [[456 780]\n",
      " [238 964]]\n",
      "Accuracy for CapColor: 0.5758818703855619, which has confusion matrix \n",
      " [[873 363]\n",
      " [671 531]]\n",
      "Accuracy for Odor: 0.9815422477440525, which has confusion matrix \n",
      " [[1236    0]\n",
      " [  45 1157]]\n",
      "Accuracy for Height: 0.5069729286300246, which has confusion matrix \n",
      " [[1236    0]\n",
      " [1202    0]]\n"
     ]
    }
   ],
   "source": [
    "preds = [y1_pred, y2_pred, y3_pred, y4_pred, y5_pred]\n",
    "test = [y1_test, y2_test, y3_test, y4_test, y5_test]\n",
    "nl = '\\n'\n",
    "\n",
    "for i,j,k,s in zip(preds,test,range(0,5),column_name):\n",
    "    a[k] = accuracy_score(j,i)\n",
    "    b[k] = confusion_matrix(j,i)\n",
    "    print(f\"Accuracy for {s}: {a[k]}, which has confusion matrix {nl} {b[k]}\")\n",
    "    "
   ]
  },
  {
   "cell_type": "markdown",
   "metadata": {},
   "source": [
    "## Manual to print accuracy and confusion matrix"
   ]
  },
  {
   "cell_type": "code",
   "execution_count": 14,
   "metadata": {
    "scrolled": true
   },
   "outputs": [
    {
     "name": "stdout",
     "output_type": "stream",
     "text": [
      "Accuracy for CapShape = 0.5512715340442986, which has confusion matrix CapShape: \n",
      "[[1177   59]\n",
      " [1035  167]]\n",
      "Accuracy for CapSurface = 0.5824446267432322, which has confusion matrix CapSurface: \n",
      "[[456 780]\n",
      " [238 964]]\n",
      "Accuracy for CapColor = 0.5758818703855619, which has confusion matrix CapColor: \n",
      "[[873 363]\n",
      " [671 531]]\n",
      "Accuracy for Odor = 0.9815422477440525, which has confusion matrix: \n",
      "[[1236    0]\n",
      " [  45 1157]]\n",
      "Accuracy for Height = 0.5069729286300246, which has confusion matrix: \n",
      "[[1236    0]\n",
      " [1202    0]]\n"
     ]
    }
   ],
   "source": [
    "acc1 = accuracy_score(y1_test, y1_pred)\n",
    "cfm1 = confusion_matrix(y1_test, y1_pred)\n",
    "print(f\"Accuracy for CapShape = {acc1}, which has confusion matrix CapShape: {nl}{cfm1}\")\n",
    "\n",
    "acc2 = accuracy_score(y2_test, y2_pred)\n",
    "cfm2 = confusion_matrix(y2_test, y2_pred)\n",
    "print(f\"Accuracy for CapSurface = {acc2}, which has confusion matrix CapSurface: {nl}{cfm2}\")\n",
    "\n",
    "acc3 = accuracy_score(y3_test, y3_pred)\n",
    "cfm3 = confusion_matrix(y3_test, y3_pred)\n",
    "print(f\"Accuracy for CapColor = {acc3}, which has confusion matrix CapColor: {nl}{cfm3}\")\n",
    "\n",
    "acc4 = accuracy_score(y4_test, y4_pred)\n",
    "cfm4 = confusion_matrix(y4_test, y4_pred)\n",
    "print(f\"Accuracy for Odor = {acc4}, which has confusion matrix: {nl}{cfm4}\")\n",
    "\n",
    "acc5 = accuracy_score(y5_test, y5_pred)\n",
    "cfm5 = confusion_matrix(y5_test, y5_pred)\n",
    "print(f\"Accuracy for Height = {acc5}, which has confusion matrix: {nl}{cfm5}\")"
   ]
  },
  {
   "cell_type": "markdown",
   "metadata": {},
   "source": [
    "### Find total correct prediction for each confusion matrix and graph it"
   ]
  },
  {
   "cell_type": "code",
   "execution_count": 15,
   "metadata": {},
   "outputs": [],
   "source": [
    "def sumOfDiagonal(matrix):\n",
    "    sum = 0\n",
    "    for i in range(len(matrix)):\n",
    "        sum += matrix[i][i]        \n",
    "    return sum"
   ]
  },
  {
   "cell_type": "code",
   "execution_count": 16,
   "metadata": {},
   "outputs": [
    {
     "data": {
      "text/plain": [
       "['CapShape', 'CapSurface', 'CapColor', 'Odor', 'Height']"
      ]
     },
     "execution_count": 16,
     "metadata": {},
     "output_type": "execute_result"
    }
   ],
   "source": [
    "column_name"
   ]
  },
  {
   "cell_type": "code",
   "execution_count": 17,
   "metadata": {},
   "outputs": [
    {
     "data": {
      "text/html": [
       "<div>\n",
       "<style scoped>\n",
       "    .dataframe tbody tr th:only-of-type {\n",
       "        vertical-align: middle;\n",
       "    }\n",
       "\n",
       "    .dataframe tbody tr th {\n",
       "        vertical-align: top;\n",
       "    }\n",
       "\n",
       "    .dataframe thead th {\n",
       "        text-align: right;\n",
       "    }\n",
       "</style>\n",
       "<table border=\"1\" class=\"dataframe\">\n",
       "  <thead>\n",
       "    <tr style=\"text-align: right;\">\n",
       "      <th></th>\n",
       "      <th>type</th>\n",
       "      <th>prediction</th>\n",
       "    </tr>\n",
       "  </thead>\n",
       "  <tbody>\n",
       "    <tr>\n",
       "      <td>0</td>\n",
       "      <td>CapShape</td>\n",
       "      <td>1344</td>\n",
       "    </tr>\n",
       "    <tr>\n",
       "      <td>1</td>\n",
       "      <td>CapSurface</td>\n",
       "      <td>1420</td>\n",
       "    </tr>\n",
       "    <tr>\n",
       "      <td>2</td>\n",
       "      <td>CapColor</td>\n",
       "      <td>1404</td>\n",
       "    </tr>\n",
       "    <tr>\n",
       "      <td>3</td>\n",
       "      <td>Odor</td>\n",
       "      <td>2393</td>\n",
       "    </tr>\n",
       "    <tr>\n",
       "      <td>4</td>\n",
       "      <td>Height</td>\n",
       "      <td>1236</td>\n",
       "    </tr>\n",
       "  </tbody>\n",
       "</table>\n",
       "</div>"
      ],
      "text/plain": [
       "         type  prediction\n",
       "0    CapShape        1344\n",
       "1  CapSurface        1420\n",
       "2    CapColor        1404\n",
       "3        Odor        2393\n",
       "4      Height        1236"
      ]
     },
     "execution_count": 17,
     "metadata": {},
     "output_type": "execute_result"
    }
   ],
   "source": [
    "corr_pred1 = sumOfDiagonal(cfm1)\n",
    "corr_pred2 = sumOfDiagonal(cfm2)\n",
    "corr_pred3 = sumOfDiagonal(cfm3)\n",
    "corr_pred4 = sumOfDiagonal(cfm4)\n",
    "corr_pred5 = sumOfDiagonal(cfm5)\n",
    "\n",
    "corr = [corr_pred1, corr_pred2, corr_pred3, corr_pred4, corr_pred5]\n",
    "new = pd.DataFrame()\n",
    "new['type'] = column_name\n",
    "new['prediction'] = corr\n",
    "new"
   ]
  },
  {
   "cell_type": "code",
   "execution_count": 18,
   "metadata": {
    "scrolled": true
   },
   "outputs": [],
   "source": [
    "import matplotlib.pyplot as plt\n",
    "\n",
    "fig, ax = plt.subplots()\n",
    "ax.scatter(new['type'], new['prediction'])\n",
    "ax.xaxis.set_ticks(new['type'])\n",
    "ax.xaxis.set_ticklabels(new['type'])\n",
    "ax.grid()"
   ]
  },
  {
   "cell_type": "markdown",
   "metadata": {},
   "source": [
    "Here __Odor__ has the highest correct prediction value. \n",
    "\n",
    "Next, I would like to test it using Cross Validation to reassure whether odor plays big part in this analysis and look for best model."
   ]
  },
  {
   "cell_type": "markdown",
   "metadata": {},
   "source": [
    "> We already store the total 31 models in x"
   ]
  },
  {
   "cell_type": "code",
   "execution_count": 19,
   "metadata": {
    "scrolled": true
   },
   "outputs": [
    {
     "data": {
      "text/html": [
       "<div>\n",
       "<style scoped>\n",
       "    .dataframe tbody tr th:only-of-type {\n",
       "        vertical-align: middle;\n",
       "    }\n",
       "\n",
       "    .dataframe tbody tr th {\n",
       "        vertical-align: top;\n",
       "    }\n",
       "\n",
       "    .dataframe thead th {\n",
       "        text-align: right;\n",
       "    }\n",
       "</style>\n",
       "<table border=\"1\" class=\"dataframe\">\n",
       "  <thead>\n",
       "    <tr style=\"text-align: right;\">\n",
       "      <th></th>\n",
       "      <th>Edible</th>\n",
       "      <th>CapShape</th>\n",
       "      <th>CapSurface</th>\n",
       "      <th>CapColor</th>\n",
       "      <th>Odor</th>\n",
       "      <th>Height</th>\n",
       "    </tr>\n",
       "  </thead>\n",
       "  <tbody>\n",
       "    <tr>\n",
       "      <td>0</td>\n",
       "      <td>Poisonous</td>\n",
       "      <td>2</td>\n",
       "      <td>3</td>\n",
       "      <td>0</td>\n",
       "      <td>7</td>\n",
       "      <td>1</td>\n",
       "    </tr>\n",
       "    <tr>\n",
       "      <td>1</td>\n",
       "      <td>Edible</td>\n",
       "      <td>2</td>\n",
       "      <td>3</td>\n",
       "      <td>9</td>\n",
       "      <td>0</td>\n",
       "      <td>0</td>\n",
       "    </tr>\n",
       "    <tr>\n",
       "      <td>2</td>\n",
       "      <td>Edible</td>\n",
       "      <td>0</td>\n",
       "      <td>3</td>\n",
       "      <td>8</td>\n",
       "      <td>1</td>\n",
       "      <td>1</td>\n",
       "    </tr>\n",
       "    <tr>\n",
       "      <td>3</td>\n",
       "      <td>Poisonous</td>\n",
       "      <td>2</td>\n",
       "      <td>2</td>\n",
       "      <td>8</td>\n",
       "      <td>7</td>\n",
       "      <td>0</td>\n",
       "    </tr>\n",
       "    <tr>\n",
       "      <td>4</td>\n",
       "      <td>Edible</td>\n",
       "      <td>2</td>\n",
       "      <td>3</td>\n",
       "      <td>3</td>\n",
       "      <td>6</td>\n",
       "      <td>0</td>\n",
       "    </tr>\n",
       "    <tr>\n",
       "      <td>...</td>\n",
       "      <td>...</td>\n",
       "      <td>...</td>\n",
       "      <td>...</td>\n",
       "      <td>...</td>\n",
       "      <td>...</td>\n",
       "      <td>...</td>\n",
       "    </tr>\n",
       "    <tr>\n",
       "      <td>8119</td>\n",
       "      <td>Edible</td>\n",
       "      <td>4</td>\n",
       "      <td>3</td>\n",
       "      <td>0</td>\n",
       "      <td>6</td>\n",
       "      <td>1</td>\n",
       "    </tr>\n",
       "    <tr>\n",
       "      <td>8120</td>\n",
       "      <td>Edible</td>\n",
       "      <td>2</td>\n",
       "      <td>3</td>\n",
       "      <td>0</td>\n",
       "      <td>6</td>\n",
       "      <td>1</td>\n",
       "    </tr>\n",
       "    <tr>\n",
       "      <td>8121</td>\n",
       "      <td>Edible</td>\n",
       "      <td>3</td>\n",
       "      <td>3</td>\n",
       "      <td>0</td>\n",
       "      <td>6</td>\n",
       "      <td>0</td>\n",
       "    </tr>\n",
       "    <tr>\n",
       "      <td>8122</td>\n",
       "      <td>Poisonous</td>\n",
       "      <td>4</td>\n",
       "      <td>2</td>\n",
       "      <td>0</td>\n",
       "      <td>3</td>\n",
       "      <td>0</td>\n",
       "    </tr>\n",
       "    <tr>\n",
       "      <td>8123</td>\n",
       "      <td>Edible</td>\n",
       "      <td>2</td>\n",
       "      <td>3</td>\n",
       "      <td>0</td>\n",
       "      <td>6</td>\n",
       "      <td>1</td>\n",
       "    </tr>\n",
       "  </tbody>\n",
       "</table>\n",
       "<p>8124 rows × 6 columns</p>\n",
       "</div>"
      ],
      "text/plain": [
       "         Edible  CapShape  CapSurface  CapColor  Odor  Height\n",
       "0     Poisonous         2           3         0     7       1\n",
       "1        Edible         2           3         9     0       0\n",
       "2        Edible         0           3         8     1       1\n",
       "3     Poisonous         2           2         8     7       0\n",
       "4        Edible         2           3         3     6       0\n",
       "...         ...       ...         ...       ...   ...     ...\n",
       "8119     Edible         4           3         0     6       1\n",
       "8120     Edible         2           3         0     6       1\n",
       "8121     Edible         3           3         0     6       0\n",
       "8122  Poisonous         4           2         0     3       0\n",
       "8123     Edible         2           3         0     6       1\n",
       "\n",
       "[8124 rows x 6 columns]"
      ]
     },
     "execution_count": 19,
     "metadata": {},
     "output_type": "execute_result"
    }
   ],
   "source": [
    "binary_data = mushroom_data\n",
    "binary_data['CapShape'] = new_shape\n",
    "binary_data['CapSurface'] = new_surface\n",
    "binary_data['CapColor'] = new_color\n",
    "binary_data['Odor'] = new_odor\n",
    "binary_data['Height'] = new_height\n",
    "\n",
    "binary_data"
   ]
  },
  {
   "cell_type": "code",
   "execution_count": 20,
   "metadata": {},
   "outputs": [
    {
     "data": {
      "text/plain": [
       "31"
      ]
     },
     "execution_count": 20,
     "metadata": {},
     "output_type": "execute_result"
    }
   ],
   "source": [
    "from itertools import permutations, combinations\n",
    "  \n",
    "# Get all 31 Combinations\n",
    "combs_1 = ['CapShape', 'CapSurface', 'CapColor', 'Odor', 'Height'] \n",
    "combs_2 = combinations(['CapShape', 'CapSurface', 'CapColor', 'Odor', 'Height'],2)  \n",
    "combs_3 = combinations(['CapShape', 'CapSurface', 'CapColor', 'Odor', 'Height'],3)  \n",
    "combs_4 = combinations(['CapShape', 'CapSurface', 'CapColor', 'Odor', 'Height'],4)  \n",
    "combs_5 = combinations(['CapShape', 'CapSurface', 'CapColor', 'Odor', 'Height'],5)  \n",
    "\n",
    "a = []\n",
    "b = []\n",
    "c = []\n",
    "d = []\n",
    "e = []\n",
    "\n",
    "# Print the obtained permutations  \n",
    "for i in list(combs_1):  \n",
    "    a.append([i])\n",
    "    \n",
    "for i in list(combs_2):  \n",
    "    b.append([i])\n",
    "\n",
    "for i in list(combs_3):  \n",
    "    c.append([i])\n",
    "\n",
    "for i in list(combs_4):  \n",
    "    d.append([i])\n",
    "\n",
    "for i in list(combs_5):  \n",
    "    e.append([i])\n",
    "    \n",
    "    #print (a[i])  \n",
    "x = a+b+c+d+e\n",
    "len(x)"
   ]
  },
  {
   "cell_type": "code",
   "execution_count": 21,
   "metadata": {},
   "outputs": [],
   "source": [
    "for i,j in zip(x[5:31], range(5,len(x))):\n",
    "    b = np.array(i[0])\n",
    "    x[j] = b.tolist()"
   ]
  },
  {
   "cell_type": "code",
   "execution_count": 22,
   "metadata": {},
   "outputs": [
    {
     "data": {
      "text/plain": [
       "[['CapShape'],\n",
       " ['CapSurface'],\n",
       " ['CapColor'],\n",
       " ['Odor'],\n",
       " ['Height'],\n",
       " ['CapShape', 'CapSurface'],\n",
       " ['CapShape', 'CapColor'],\n",
       " ['CapShape', 'Odor'],\n",
       " ['CapShape', 'Height'],\n",
       " ['CapSurface', 'CapColor'],\n",
       " ['CapSurface', 'Odor'],\n",
       " ['CapSurface', 'Height'],\n",
       " ['CapColor', 'Odor'],\n",
       " ['CapColor', 'Height'],\n",
       " ['Odor', 'Height'],\n",
       " ['CapShape', 'CapSurface', 'CapColor'],\n",
       " ['CapShape', 'CapSurface', 'Odor'],\n",
       " ['CapShape', 'CapSurface', 'Height'],\n",
       " ['CapShape', 'CapColor', 'Odor'],\n",
       " ['CapShape', 'CapColor', 'Height'],\n",
       " ['CapShape', 'Odor', 'Height'],\n",
       " ['CapSurface', 'CapColor', 'Odor'],\n",
       " ['CapSurface', 'CapColor', 'Height'],\n",
       " ['CapSurface', 'Odor', 'Height'],\n",
       " ['CapColor', 'Odor', 'Height'],\n",
       " ['CapShape', 'CapSurface', 'CapColor', 'Odor'],\n",
       " ['CapShape', 'CapSurface', 'CapColor', 'Height'],\n",
       " ['CapShape', 'CapSurface', 'Odor', 'Height'],\n",
       " ['CapShape', 'CapColor', 'Odor', 'Height'],\n",
       " ['CapSurface', 'CapColor', 'Odor', 'Height'],\n",
       " ['CapShape', 'CapSurface', 'CapColor', 'Odor', 'Height']]"
      ]
     },
     "execution_count": 22,
     "metadata": {},
     "output_type": "execute_result"
    }
   ],
   "source": [
    "x"
   ]
  },
  {
   "cell_type": "code",
   "execution_count": 23,
   "metadata": {},
   "outputs": [
    {
     "name": "stdout",
     "output_type": "stream",
     "text": [
      "confusion matrix for model 1 is \n",
      " [[1177   59]\n",
      " [1035  167]]\n",
      "confusion matrix for model 2 is \n",
      " [[456 780]\n",
      " [238 964]]\n",
      "confusion matrix for model 3 is \n",
      " [[873 363]\n",
      " [671 531]]\n",
      "confusion matrix for model 4 is \n",
      " [[1236    0]\n",
      " [  45 1157]]\n",
      "confusion matrix for model 5 is \n",
      " [[1236    0]\n",
      " [1202    0]]\n",
      "confusion matrix for model 6 is \n",
      " [[790 446]\n",
      " [457 745]]\n",
      "confusion matrix for model 7 is \n",
      " [[1106  130]\n",
      " [ 773  429]]\n",
      "confusion matrix for model 8 is \n",
      " [[1236    0]\n",
      " [  43 1159]]\n",
      "confusion matrix for model 9 is \n",
      " [[945 291]\n",
      " [768 434]]\n",
      "confusion matrix for model 10 is \n",
      " [[731 505]\n",
      " [278 924]]\n",
      "confusion matrix for model 11 is \n",
      " [[1236    0]\n",
      " [  42 1160]]\n",
      "confusion matrix for model 12 is \n",
      " [[456 780]\n",
      " [240 962]]\n",
      "confusion matrix for model 13 is \n",
      " [[1236    0]\n",
      " [  36 1166]]\n",
      "confusion matrix for model 14 is \n",
      " [[873 363]\n",
      " [671 531]]\n",
      "confusion matrix for model 15 is \n",
      " [[1236    0]\n",
      " [  45 1157]]\n",
      "confusion matrix for model 16 is \n",
      " [[981 255]\n",
      " [467 735]]\n",
      "confusion matrix for model 17 is \n",
      " [[1236    0]\n",
      " [  32 1170]]\n",
      "confusion matrix for model 18 is \n",
      " [[689 547]\n",
      " [351 851]]\n",
      "confusion matrix for model 19 is \n",
      " [[1236    0]\n",
      " [  25 1177]]\n",
      "confusion matrix for model 20 is \n",
      " [[994 242]\n",
      " [648 554]]\n",
      "confusion matrix for model 21 is \n",
      " [[1236    0]\n",
      " [  43 1159]]\n",
      "confusion matrix for model 22 is \n",
      " [[1236    0]\n",
      " [  33 1169]]\n",
      "confusion matrix for model 23 is \n",
      " [[776 460]\n",
      " [319 883]]\n",
      "confusion matrix for model 24 is \n",
      " [[1236    0]\n",
      " [  44 1158]]\n",
      "confusion matrix for model 25 is \n",
      " [[1236    0]\n",
      " [  36 1166]]\n",
      "confusion matrix for model 26 is \n",
      " [[1233    3]\n",
      " [  23 1179]]\n",
      "confusion matrix for model 27 is \n",
      " [[954 282]\n",
      " [434 768]]\n",
      "confusion matrix for model 28 is \n",
      " [[1236    0]\n",
      " [  32 1170]]\n",
      "confusion matrix for model 29 is \n",
      " [[1231    5]\n",
      " [  24 1178]]\n",
      "confusion matrix for model 30 is \n",
      " [[1232    4]\n",
      " [  34 1168]]\n",
      "confusion matrix for model 31 is \n",
      " [[1231    5]\n",
      " [  22 1180]]\n"
     ]
    }
   ],
   "source": [
    "k = []\n",
    "for length in range(0,len(x)):\n",
    "    X= binary_data[x[length]].values\n",
    "    y = mushroom_data['Edible']\n",
    "    \n",
    "    X_train, X_test, y_train, y_test = train_test_split(X, y, test_size = 0.3, random_state = 1)\n",
    "    \n",
    "    rand_forest = RandomForestClassifier(n_estimators=200)\n",
    "    rand_forest.fit(X_train, y_train)\n",
    "    \n",
    "    y_pred = rand_forest.predict(X_test)\n",
    "    \n",
    "    cfm = confusion_matrix(y_test, y_pred)\n",
    "    corr_pred = sumOfDiagonal(cfm)\n",
    "    \n",
    "    print(f\"confusion matrix for model {length+1} is {nl} {cfm}\")\n",
    "    k.append(corr_pred)"
   ]
  },
  {
   "cell_type": "code",
   "execution_count": 24,
   "metadata": {
    "scrolled": true
   },
   "outputs": [
    {
     "data": {
      "text/html": [
       "<div>\n",
       "<style scoped>\n",
       "    .dataframe tbody tr th:only-of-type {\n",
       "        vertical-align: middle;\n",
       "    }\n",
       "\n",
       "    .dataframe tbody tr th {\n",
       "        vertical-align: top;\n",
       "    }\n",
       "\n",
       "    .dataframe thead th {\n",
       "        text-align: right;\n",
       "    }\n",
       "</style>\n",
       "<table border=\"1\" class=\"dataframe\">\n",
       "  <thead>\n",
       "    <tr style=\"text-align: right;\">\n",
       "      <th></th>\n",
       "      <th>Name</th>\n",
       "      <th>Total Correct Prediction</th>\n",
       "    </tr>\n",
       "    <tr>\n",
       "      <th>Model</th>\n",
       "      <th></th>\n",
       "      <th></th>\n",
       "    </tr>\n",
       "  </thead>\n",
       "  <tbody>\n",
       "    <tr>\n",
       "      <td>1</td>\n",
       "      <td>[CapShape]</td>\n",
       "      <td>1344</td>\n",
       "    </tr>\n",
       "    <tr>\n",
       "      <td>2</td>\n",
       "      <td>[CapSurface]</td>\n",
       "      <td>1420</td>\n",
       "    </tr>\n",
       "    <tr>\n",
       "      <td>3</td>\n",
       "      <td>[CapColor]</td>\n",
       "      <td>1404</td>\n",
       "    </tr>\n",
       "    <tr>\n",
       "      <td>4</td>\n",
       "      <td>[Odor]</td>\n",
       "      <td>2393</td>\n",
       "    </tr>\n",
       "    <tr>\n",
       "      <td>5</td>\n",
       "      <td>[Height]</td>\n",
       "      <td>1236</td>\n",
       "    </tr>\n",
       "    <tr>\n",
       "      <td>6</td>\n",
       "      <td>[CapShape, CapSurface]</td>\n",
       "      <td>1535</td>\n",
       "    </tr>\n",
       "    <tr>\n",
       "      <td>7</td>\n",
       "      <td>[CapShape, CapColor]</td>\n",
       "      <td>1535</td>\n",
       "    </tr>\n",
       "    <tr>\n",
       "      <td>8</td>\n",
       "      <td>[CapShape, Odor]</td>\n",
       "      <td>2395</td>\n",
       "    </tr>\n",
       "    <tr>\n",
       "      <td>9</td>\n",
       "      <td>[CapShape, Height]</td>\n",
       "      <td>1379</td>\n",
       "    </tr>\n",
       "    <tr>\n",
       "      <td>10</td>\n",
       "      <td>[CapSurface, CapColor]</td>\n",
       "      <td>1655</td>\n",
       "    </tr>\n",
       "    <tr>\n",
       "      <td>11</td>\n",
       "      <td>[CapSurface, Odor]</td>\n",
       "      <td>2396</td>\n",
       "    </tr>\n",
       "    <tr>\n",
       "      <td>12</td>\n",
       "      <td>[CapSurface, Height]</td>\n",
       "      <td>1418</td>\n",
       "    </tr>\n",
       "    <tr>\n",
       "      <td>13</td>\n",
       "      <td>[CapColor, Odor]</td>\n",
       "      <td>2402</td>\n",
       "    </tr>\n",
       "    <tr>\n",
       "      <td>14</td>\n",
       "      <td>[CapColor, Height]</td>\n",
       "      <td>1404</td>\n",
       "    </tr>\n",
       "    <tr>\n",
       "      <td>15</td>\n",
       "      <td>[Odor, Height]</td>\n",
       "      <td>2393</td>\n",
       "    </tr>\n",
       "    <tr>\n",
       "      <td>16</td>\n",
       "      <td>[CapShape, CapSurface, CapColor]</td>\n",
       "      <td>1716</td>\n",
       "    </tr>\n",
       "    <tr>\n",
       "      <td>17</td>\n",
       "      <td>[CapShape, CapSurface, Odor]</td>\n",
       "      <td>2406</td>\n",
       "    </tr>\n",
       "    <tr>\n",
       "      <td>18</td>\n",
       "      <td>[CapShape, CapSurface, Height]</td>\n",
       "      <td>1540</td>\n",
       "    </tr>\n",
       "    <tr>\n",
       "      <td>19</td>\n",
       "      <td>[CapShape, CapColor, Odor]</td>\n",
       "      <td>2413</td>\n",
       "    </tr>\n",
       "    <tr>\n",
       "      <td>20</td>\n",
       "      <td>[CapShape, CapColor, Height]</td>\n",
       "      <td>1548</td>\n",
       "    </tr>\n",
       "    <tr>\n",
       "      <td>21</td>\n",
       "      <td>[CapShape, Odor, Height]</td>\n",
       "      <td>2395</td>\n",
       "    </tr>\n",
       "    <tr>\n",
       "      <td>22</td>\n",
       "      <td>[CapSurface, CapColor, Odor]</td>\n",
       "      <td>2405</td>\n",
       "    </tr>\n",
       "    <tr>\n",
       "      <td>23</td>\n",
       "      <td>[CapSurface, CapColor, Height]</td>\n",
       "      <td>1659</td>\n",
       "    </tr>\n",
       "    <tr>\n",
       "      <td>24</td>\n",
       "      <td>[CapSurface, Odor, Height]</td>\n",
       "      <td>2394</td>\n",
       "    </tr>\n",
       "    <tr>\n",
       "      <td>25</td>\n",
       "      <td>[CapColor, Odor, Height]</td>\n",
       "      <td>2402</td>\n",
       "    </tr>\n",
       "    <tr>\n",
       "      <td>26</td>\n",
       "      <td>[CapShape, CapSurface, CapColor, Odor]</td>\n",
       "      <td>2412</td>\n",
       "    </tr>\n",
       "    <tr>\n",
       "      <td>27</td>\n",
       "      <td>[CapShape, CapSurface, CapColor, Height]</td>\n",
       "      <td>1722</td>\n",
       "    </tr>\n",
       "    <tr>\n",
       "      <td>28</td>\n",
       "      <td>[CapShape, CapSurface, Odor, Height]</td>\n",
       "      <td>2406</td>\n",
       "    </tr>\n",
       "    <tr>\n",
       "      <td>29</td>\n",
       "      <td>[CapShape, CapColor, Odor, Height]</td>\n",
       "      <td>2409</td>\n",
       "    </tr>\n",
       "    <tr>\n",
       "      <td>30</td>\n",
       "      <td>[CapSurface, CapColor, Odor, Height]</td>\n",
       "      <td>2400</td>\n",
       "    </tr>\n",
       "    <tr>\n",
       "      <td>31</td>\n",
       "      <td>[CapShape, CapSurface, CapColor, Odor, Height]</td>\n",
       "      <td>2411</td>\n",
       "    </tr>\n",
       "  </tbody>\n",
       "</table>\n",
       "</div>"
      ],
      "text/plain": [
       "                                                 Name  \\\n",
       "Model                                                   \n",
       "1                                          [CapShape]   \n",
       "2                                        [CapSurface]   \n",
       "3                                          [CapColor]   \n",
       "4                                              [Odor]   \n",
       "5                                            [Height]   \n",
       "6                              [CapShape, CapSurface]   \n",
       "7                                [CapShape, CapColor]   \n",
       "8                                    [CapShape, Odor]   \n",
       "9                                  [CapShape, Height]   \n",
       "10                             [CapSurface, CapColor]   \n",
       "11                                 [CapSurface, Odor]   \n",
       "12                               [CapSurface, Height]   \n",
       "13                                   [CapColor, Odor]   \n",
       "14                                 [CapColor, Height]   \n",
       "15                                     [Odor, Height]   \n",
       "16                   [CapShape, CapSurface, CapColor]   \n",
       "17                       [CapShape, CapSurface, Odor]   \n",
       "18                     [CapShape, CapSurface, Height]   \n",
       "19                         [CapShape, CapColor, Odor]   \n",
       "20                       [CapShape, CapColor, Height]   \n",
       "21                           [CapShape, Odor, Height]   \n",
       "22                       [CapSurface, CapColor, Odor]   \n",
       "23                     [CapSurface, CapColor, Height]   \n",
       "24                         [CapSurface, Odor, Height]   \n",
       "25                           [CapColor, Odor, Height]   \n",
       "26             [CapShape, CapSurface, CapColor, Odor]   \n",
       "27           [CapShape, CapSurface, CapColor, Height]   \n",
       "28               [CapShape, CapSurface, Odor, Height]   \n",
       "29                 [CapShape, CapColor, Odor, Height]   \n",
       "30               [CapSurface, CapColor, Odor, Height]   \n",
       "31     [CapShape, CapSurface, CapColor, Odor, Height]   \n",
       "\n",
       "       Total Correct Prediction  \n",
       "Model                            \n",
       "1                          1344  \n",
       "2                          1420  \n",
       "3                          1404  \n",
       "4                          2393  \n",
       "5                          1236  \n",
       "6                          1535  \n",
       "7                          1535  \n",
       "8                          2395  \n",
       "9                          1379  \n",
       "10                         1655  \n",
       "11                         2396  \n",
       "12                         1418  \n",
       "13                         2402  \n",
       "14                         1404  \n",
       "15                         2393  \n",
       "16                         1716  \n",
       "17                         2406  \n",
       "18                         1540  \n",
       "19                         2413  \n",
       "20                         1548  \n",
       "21                         2395  \n",
       "22                         2405  \n",
       "23                         1659  \n",
       "24                         2394  \n",
       "25                         2402  \n",
       "26                         2412  \n",
       "27                         1722  \n",
       "28                         2406  \n",
       "29                         2409  \n",
       "30                         2400  \n",
       "31                         2411  "
      ]
     },
     "execution_count": 24,
     "metadata": {},
     "output_type": "execute_result"
    }
   ],
   "source": [
    "model31_pred = pd.DataFrame()\n",
    "model31_pred['Model'] = range(1,len(x)+1)\n",
    "model31_pred.set_index('Model', inplace= True)\n",
    "model31_pred['Name'] = x\n",
    "model31_pred['Total Correct Prediction'] = k\n",
    "model31_pred"
   ]
  },
  {
   "cell_type": "code",
   "execution_count": 25,
   "metadata": {},
   "outputs": [
    {
     "data": {
      "image/png": "[encoded data removed]",
      "text/plain": [
       "<Figure size 432x288 with 1 Axes>"
      ]
     },
     "metadata": {
      "needs_background": "light"
     },
     "output_type": "display_data"
    }
   ],
   "source": [
    "fig, ax = plt.subplots()\n",
    "ax.scatter(range(1,len(x)+1), model31_pred['Total Correct Prediction'])\n",
    "ax.xaxis.set_ticks(np.arange(1,32,2))\n",
    "ax.set_title(\"Total Prediction of 31 models\")\n",
    "ax.set_ylabel(\"Total Correct Prediction\")\n",
    "ax.set_xlabel(\"Model\")\n",
    "ax.grid()"
   ]
  },
  {
   "cell_type": "markdown",
   "metadata": {},
   "source": [
    "> As we can see there are many models that correctly predict >2000, which lead to no conclusion we can draw yet as the plot did not show any interesting trend result."
   ]
  },
  {
   "cell_type": "markdown",
   "metadata": {},
   "source": [
    "To filter the most probable prediction and prove Odor as the crucial explanatory variable to determine if the mushroom is edible or not. To prevent overfitting, we can use __Cross_Validation model__ with Random forest by loop it for 10 times to find the best by finding the most frequency appeared for the most correct prediction value."
   ]
  },
  {
   "cell_type": "markdown",
   "metadata": {},
   "source": [
    "- __Random Forest Model with Random_state 1__"
   ]
  },
  {
   "cell_type": "code",
   "execution_count": 26,
   "metadata": {},
   "outputs": [
    {
     "name": "stdout",
     "output_type": "stream",
     "text": [
      "best prediction for loop 1 is 4030 with model 26\n",
      "best prediction for loop 2 is 4029 with model 26\n",
      "best prediction for loop 3 is 4029 with model 26\n",
      "best prediction for loop 4 is 4029 with model 26\n",
      "best prediction for loop 5 is 4029 with model 26\n",
      "best prediction for loop 6 is 4029 with model 26\n",
      "best prediction for loop 7 is 4030 with model 26\n",
      "best prediction for loop 8 is 4029 with model 26\n",
      "best prediction for loop 9 is 4029 with model 26\n",
      "best prediction for loop 10 is 4030 with model 31\n"
     ]
    }
   ],
   "source": [
    "from sklearn.model_selection import KFold\n",
    "\n",
    "winner = []\n",
    "\n",
    "\n",
    "#for n_state in range(1,4):  \n",
    "for iterate in range(1,11):\n",
    "    val = []\n",
    "    for length in range(0,len(x)):\n",
    "        X = binary_data[x[length]].values\n",
    "        y = mushroom_data['Edible']   \n",
    "           #kfold = KFold(2, shuffle = True, random_state = n_state)\n",
    "        kfold = KFold(2, shuffle = True, random_state = 1)\n",
    "        for train, test in kfold.split(X):\n",
    "            X_train_cv = X[train]\n",
    "            X_test_cv = X[test]\n",
    "    \n",
    "    #X_train, X_test, y_train, y_test = train_test_split(X, y, test_size = 0.5, random_state = 2, shuffle = True)\n",
    "    \n",
    "        for train, test in kfold.split(y):\n",
    "            y_train_cv = y[train]\n",
    "            y_test_cv = y[test]\n",
    "    \n",
    "            rand_forest = RandomForestClassifier(n_estimators=200)\n",
    "            rand_forest.fit(X_train_cv, y_train_cv)\n",
    "    \n",
    "            y_pred_cv = rand_forest.predict(X_test_cv)\n",
    "        \n",
    "        cfm = confusion_matrix(y_test_cv, y_pred_cv)  \n",
    "        corr_pred = sumOfDiagonal(cfm)   \n",
    "        val.append(corr_pred)\n",
    "        \n",
    "    data = pd.DataFrame()\n",
    "    data['Model'] = range(1, len(x)+1)\n",
    "    data['pred'] = val\n",
    "    model_val = data['Model'][data['pred'].idxmax()]\n",
    "    max_data = data['pred'].max()\n",
    "    winner.append(model_val)\n",
    "    print(f\"best prediction for loop {iterate} is {max_data} with model {model_val}\")\n",
    "    #acc = accuracy_score(y_test_cv, y_pred_cv)\n",
    "    #print(f\"The accuracy for random state {n_state} is {acc}\")\n",
    "    #print(f\"{val}{nl}\")\n",
    "    "
   ]
  },
  {
   "cell_type": "code",
   "execution_count": 27,
   "metadata": {},
   "outputs": [
    {
     "name": "stdout",
     "output_type": "stream",
     "text": [
      "The accuracy for random state 1 is 0.9921221073362876\n"
     ]
    }
   ],
   "source": [
    "acc = accuracy_score(y_test_cv, y_pred_cv)\n",
    "print(f\"The accuracy for random state 1 is {acc}\")"
   ]
  },
  {
   "cell_type": "code",
   "execution_count": 28,
   "metadata": {
    "scrolled": true
   },
   "outputs": [
    {
     "data": {
      "image/png": "[encoded data removed]",
      "text/plain": [
       "<Figure size 432x288 with 1 Axes>"
      ]
     },
     "metadata": {
      "needs_background": "light"
     },
     "output_type": "display_data"
    }
   ],
   "source": [
    "fig, ax = plt.subplots()\n",
    "ax.hist(winner, bins=30)\n",
    "ax.xaxis.set_ticks(np.arange(1,32,2))\n",
    "ax.set_title(\"10 loops for the most correct prediction Random State 1\")\n",
    "ax.set_ylabel(\"Most correct predicion per loop\")\n",
    "ax.set_xlabel(\"Model\")\n",
    "ax.grid()"
   ]
  },
  {
   "cell_type": "markdown",
   "metadata": {},
   "source": [
    "The winner is Model 26 with winning 9 out of 10 loops which is __Model = CapShape + CapSurface + CapColor + Odor__"
   ]
  },
  {
   "cell_type": "markdown",
   "metadata": {},
   "source": [
    "- __Random Forest Model with Random_state 2__"
   ]
  },
  {
   "cell_type": "code",
   "execution_count": 29,
   "metadata": {},
   "outputs": [
    {
     "name": "stdout",
     "output_type": "stream",
     "text": [
      "best prediction for loop 1 is 4035 with model 19\n",
      "best prediction for loop 2 is 4035 with model 19\n",
      "best prediction for loop 3 is 4035 with model 19\n",
      "best prediction for loop 4 is 4035 with model 19\n",
      "best prediction for loop 5 is 4035 with model 19\n",
      "best prediction for loop 6 is 4035 with model 19\n",
      "best prediction for loop 7 is 4035 with model 19\n",
      "best prediction for loop 8 is 4035 with model 19\n",
      "best prediction for loop 9 is 4035 with model 19\n",
      "best prediction for loop 10 is 4035 with model 19\n"
     ]
    }
   ],
   "source": [
    "from sklearn.model_selection import KFold\n",
    "\n",
    "winner = []\n",
    "\n",
    "\n",
    "#for n_state in range(1,4):  \n",
    "for iterate in range(1,11):\n",
    "    val = []\n",
    "    for length in range(0,len(x)):\n",
    "        X = binary_data[x[length]].values\n",
    "        y = mushroom_data['Edible']   \n",
    "           #kfold = KFold(2, shuffle = True, random_state = n_state)\n",
    "        kfold = KFold(2, shuffle = True, random_state = 2)\n",
    "        for train, test in kfold.split(X):\n",
    "            X_train_cv = X[train]\n",
    "            X_test_cv = X[test]\n",
    "    \n",
    "    #X_train, X_test, y_train, y_test = train_test_split(X, y, test_size = 0.5, random_state = 2, shuffle = True)\n",
    "    \n",
    "        for train, test in kfold.split(y):\n",
    "            y_train_cv = y[train]\n",
    "            y_test_cv = y[test]\n",
    "    \n",
    "            rand_forest = RandomForestClassifier(n_estimators=200)\n",
    "            rand_forest.fit(X_train_cv, y_train_cv)\n",
    "    \n",
    "            y_pred_cv = rand_forest.predict(X_test_cv)\n",
    "        \n",
    "        cfm = confusion_matrix(y_test_cv, y_pred_cv)  \n",
    "        corr_pred = sumOfDiagonal(cfm)   \n",
    "        val.append(corr_pred)\n",
    "        \n",
    "    data = pd.DataFrame()\n",
    "    data['Model'] = range(1, len(x)+1)\n",
    "    data['pred'] = val\n",
    "    model_val = data['Model'][data['pred'].idxmax()]\n",
    "    max_data = data['pred'].max()\n",
    "    winner.append(model_val)\n",
    "    print(f\"best prediction for loop {iterate} is {max_data} with model {model_val}\")\n",
    "    #acc = accuracy_score(y_test_cv, y_pred_cv)\n",
    "    #print(f\"The accuracy for random state {n_state} is {acc}\")\n",
    "    #print(f\"{val}{nl}\")"
   ]
  },
  {
   "cell_type": "code",
   "execution_count": 30,
   "metadata": {},
   "outputs": [
    {
     "name": "stdout",
     "output_type": "stream",
     "text": [
      "The accuracy for random state 2 is 0.9921221073362876\n"
     ]
    }
   ],
   "source": [
    "acc = accuracy_score(y_test_cv, y_pred_cv)\n",
    "print(f\"The accuracy for random state 2 is {acc}\")"
   ]
  },
  {
   "cell_type": "code",
   "execution_count": 40,
   "metadata": {
    "scrolled": true
   },
   "outputs": [
    {
     "data": {
      "image/png": "[encoded data removed]",
      "text/plain": [
       "<Figure size 432x288 with 1 Axes>"
      ]
     },
     "metadata": {
      "needs_background": "light"
     },
     "output_type": "display_data"
    }
   ],
   "source": [
    "fig, ax = plt.subplots()\n",
    "ax.hist(winner, width=0.2)\n",
    "ax.xaxis.set_ticks(np.arange(1,32,2))\n",
    "ax.set_title(\"10 loops for the most correct prediction Random State 2\")\n",
    "ax.set_ylabel(\"Most correct predicion per loop\")\n",
    "ax.set_xlabel(\"Model\")\n",
    "ax.grid()"
   ]
  },
  {
   "cell_type": "markdown",
   "metadata": {},
   "source": [
    "The winner is Model 19 with winning 10 out of 10 loops which is __Model = CapShape  + CapColor + Odor__"
   ]
  },
  {
   "cell_type": "code",
   "execution_count": 32,
   "metadata": {
    "scrolled": true
   },
   "outputs": [
    {
     "data": {
      "text/html": [
       "<div>\n",
       "<style scoped>\n",
       "    .dataframe tbody tr th:only-of-type {\n",
       "        vertical-align: middle;\n",
       "    }\n",
       "\n",
       "    .dataframe tbody tr th {\n",
       "        vertical-align: top;\n",
       "    }\n",
       "\n",
       "    .dataframe thead th {\n",
       "        text-align: right;\n",
       "    }\n",
       "</style>\n",
       "<table border=\"1\" class=\"dataframe\">\n",
       "  <thead>\n",
       "    <tr style=\"text-align: right;\">\n",
       "      <th></th>\n",
       "      <th>Name</th>\n",
       "      <th>Total Correct Prediction</th>\n",
       "    </tr>\n",
       "    <tr>\n",
       "      <th>Model</th>\n",
       "      <th></th>\n",
       "      <th></th>\n",
       "    </tr>\n",
       "  </thead>\n",
       "  <tbody>\n",
       "    <tr>\n",
       "      <td>1</td>\n",
       "      <td>[CapShape]</td>\n",
       "      <td>1344</td>\n",
       "    </tr>\n",
       "    <tr>\n",
       "      <td>2</td>\n",
       "      <td>[CapSurface]</td>\n",
       "      <td>1420</td>\n",
       "    </tr>\n",
       "    <tr>\n",
       "      <td>3</td>\n",
       "      <td>[CapColor]</td>\n",
       "      <td>1404</td>\n",
       "    </tr>\n",
       "    <tr>\n",
       "      <td>4</td>\n",
       "      <td>[Odor]</td>\n",
       "      <td>2393</td>\n",
       "    </tr>\n",
       "    <tr>\n",
       "      <td>5</td>\n",
       "      <td>[Height]</td>\n",
       "      <td>1236</td>\n",
       "    </tr>\n",
       "    <tr>\n",
       "      <td>6</td>\n",
       "      <td>[CapShape, CapSurface]</td>\n",
       "      <td>1535</td>\n",
       "    </tr>\n",
       "    <tr>\n",
       "      <td>7</td>\n",
       "      <td>[CapShape, CapColor]</td>\n",
       "      <td>1535</td>\n",
       "    </tr>\n",
       "    <tr>\n",
       "      <td>8</td>\n",
       "      <td>[CapShape, Odor]</td>\n",
       "      <td>2395</td>\n",
       "    </tr>\n",
       "    <tr>\n",
       "      <td>9</td>\n",
       "      <td>[CapShape, Height]</td>\n",
       "      <td>1379</td>\n",
       "    </tr>\n",
       "    <tr>\n",
       "      <td>10</td>\n",
       "      <td>[CapSurface, CapColor]</td>\n",
       "      <td>1655</td>\n",
       "    </tr>\n",
       "    <tr>\n",
       "      <td>11</td>\n",
       "      <td>[CapSurface, Odor]</td>\n",
       "      <td>2396</td>\n",
       "    </tr>\n",
       "    <tr>\n",
       "      <td>12</td>\n",
       "      <td>[CapSurface, Height]</td>\n",
       "      <td>1418</td>\n",
       "    </tr>\n",
       "    <tr>\n",
       "      <td>13</td>\n",
       "      <td>[CapColor, Odor]</td>\n",
       "      <td>2402</td>\n",
       "    </tr>\n",
       "    <tr>\n",
       "      <td>14</td>\n",
       "      <td>[CapColor, Height]</td>\n",
       "      <td>1404</td>\n",
       "    </tr>\n",
       "    <tr>\n",
       "      <td>15</td>\n",
       "      <td>[Odor, Height]</td>\n",
       "      <td>2393</td>\n",
       "    </tr>\n",
       "    <tr>\n",
       "      <td>16</td>\n",
       "      <td>[CapShape, CapSurface, CapColor]</td>\n",
       "      <td>1716</td>\n",
       "    </tr>\n",
       "    <tr>\n",
       "      <td>17</td>\n",
       "      <td>[CapShape, CapSurface, Odor]</td>\n",
       "      <td>2406</td>\n",
       "    </tr>\n",
       "    <tr>\n",
       "      <td>18</td>\n",
       "      <td>[CapShape, CapSurface, Height]</td>\n",
       "      <td>1540</td>\n",
       "    </tr>\n",
       "    <tr>\n",
       "      <td>19</td>\n",
       "      <td>[CapShape, CapColor, Odor]</td>\n",
       "      <td>2413</td>\n",
       "    </tr>\n",
       "    <tr>\n",
       "      <td>20</td>\n",
       "      <td>[CapShape, CapColor, Height]</td>\n",
       "      <td>1548</td>\n",
       "    </tr>\n",
       "    <tr>\n",
       "      <td>21</td>\n",
       "      <td>[CapShape, Odor, Height]</td>\n",
       "      <td>2395</td>\n",
       "    </tr>\n",
       "    <tr>\n",
       "      <td>22</td>\n",
       "      <td>[CapSurface, CapColor, Odor]</td>\n",
       "      <td>2405</td>\n",
       "    </tr>\n",
       "    <tr>\n",
       "      <td>23</td>\n",
       "      <td>[CapSurface, CapColor, Height]</td>\n",
       "      <td>1659</td>\n",
       "    </tr>\n",
       "    <tr>\n",
       "      <td>24</td>\n",
       "      <td>[CapSurface, Odor, Height]</td>\n",
       "      <td>2394</td>\n",
       "    </tr>\n",
       "    <tr>\n",
       "      <td>25</td>\n",
       "      <td>[CapColor, Odor, Height]</td>\n",
       "      <td>2402</td>\n",
       "    </tr>\n",
       "    <tr>\n",
       "      <td>26</td>\n",
       "      <td>[CapShape, CapSurface, CapColor, Odor]</td>\n",
       "      <td>2412</td>\n",
       "    </tr>\n",
       "    <tr>\n",
       "      <td>27</td>\n",
       "      <td>[CapShape, CapSurface, CapColor, Height]</td>\n",
       "      <td>1722</td>\n",
       "    </tr>\n",
       "    <tr>\n",
       "      <td>28</td>\n",
       "      <td>[CapShape, CapSurface, Odor, Height]</td>\n",
       "      <td>2406</td>\n",
       "    </tr>\n",
       "    <tr>\n",
       "      <td>29</td>\n",
       "      <td>[CapShape, CapColor, Odor, Height]</td>\n",
       "      <td>2409</td>\n",
       "    </tr>\n",
       "    <tr>\n",
       "      <td>30</td>\n",
       "      <td>[CapSurface, CapColor, Odor, Height]</td>\n",
       "      <td>2400</td>\n",
       "    </tr>\n",
       "    <tr>\n",
       "      <td>31</td>\n",
       "      <td>[CapShape, CapSurface, CapColor, Odor, Height]</td>\n",
       "      <td>2411</td>\n",
       "    </tr>\n",
       "  </tbody>\n",
       "</table>\n",
       "</div>"
      ],
      "text/plain": [
       "                                                 Name  \\\n",
       "Model                                                   \n",
       "1                                          [CapShape]   \n",
       "2                                        [CapSurface]   \n",
       "3                                          [CapColor]   \n",
       "4                                              [Odor]   \n",
       "5                                            [Height]   \n",
       "6                              [CapShape, CapSurface]   \n",
       "7                                [CapShape, CapColor]   \n",
       "8                                    [CapShape, Odor]   \n",
       "9                                  [CapShape, Height]   \n",
       "10                             [CapSurface, CapColor]   \n",
       "11                                 [CapSurface, Odor]   \n",
       "12                               [CapSurface, Height]   \n",
       "13                                   [CapColor, Odor]   \n",
       "14                                 [CapColor, Height]   \n",
       "15                                     [Odor, Height]   \n",
       "16                   [CapShape, CapSurface, CapColor]   \n",
       "17                       [CapShape, CapSurface, Odor]   \n",
       "18                     [CapShape, CapSurface, Height]   \n",
       "19                         [CapShape, CapColor, Odor]   \n",
       "20                       [CapShape, CapColor, Height]   \n",
       "21                           [CapShape, Odor, Height]   \n",
       "22                       [CapSurface, CapColor, Odor]   \n",
       "23                     [CapSurface, CapColor, Height]   \n",
       "24                         [CapSurface, Odor, Height]   \n",
       "25                           [CapColor, Odor, Height]   \n",
       "26             [CapShape, CapSurface, CapColor, Odor]   \n",
       "27           [CapShape, CapSurface, CapColor, Height]   \n",
       "28               [CapShape, CapSurface, Odor, Height]   \n",
       "29                 [CapShape, CapColor, Odor, Height]   \n",
       "30               [CapSurface, CapColor, Odor, Height]   \n",
       "31     [CapShape, CapSurface, CapColor, Odor, Height]   \n",
       "\n",
       "       Total Correct Prediction  \n",
       "Model                            \n",
       "1                          1344  \n",
       "2                          1420  \n",
       "3                          1404  \n",
       "4                          2393  \n",
       "5                          1236  \n",
       "6                          1535  \n",
       "7                          1535  \n",
       "8                          2395  \n",
       "9                          1379  \n",
       "10                         1655  \n",
       "11                         2396  \n",
       "12                         1418  \n",
       "13                         2402  \n",
       "14                         1404  \n",
       "15                         2393  \n",
       "16                         1716  \n",
       "17                         2406  \n",
       "18                         1540  \n",
       "19                         2413  \n",
       "20                         1548  \n",
       "21                         2395  \n",
       "22                         2405  \n",
       "23                         1659  \n",
       "24                         2394  \n",
       "25                         2402  \n",
       "26                         2412  \n",
       "27                         1722  \n",
       "28                         2406  \n",
       "29                         2409  \n",
       "30                         2400  \n",
       "31                         2411  "
      ]
     },
     "execution_count": 32,
     "metadata": {},
     "output_type": "execute_result"
    }
   ],
   "source": [
    "model31_pred"
   ]
  },
  {
   "cell_type": "markdown",
   "metadata": {},
   "source": [
    "- Finally, we can conclude through this project that Odor is an essential factor to determine whether the mushroom is edible or not. This is proved from results of Single Random Forest test and Cross Validation Random Forest test which told us Model 19 & 26 are the most optimized as both of them contain __'Odor'__. \n"
   ]
  },
  {
   "cell_type": "markdown",
   "metadata": {},
   "source": [
    "- Another finding is, Model 31st is not the best opton could due to Overfitting which our test choose model with lesser input nstead (Model 19 & 26). This shows that __'Height'__ is not reliable for this prediction."
   ]
  },
  {
   "cell_type": "markdown",
   "metadata": {},
   "source": [
    "- As this is only one model we test on, another classification model can be applied to this dataset further on. This could improve the work and find the best fit & accuracy."
   ]
  },
  {
   "cell_type": "code",
   "execution_count": null,
   "metadata": {},
   "outputs": [],
   "source": []
  }
 ],
 "metadata": {
  "kernelspec": {
   "display_name": "Python 3",
   "language": "python",
   "name": "python3"
  },
  "language_info": {
   "codemirror_mode": {
    "name": "ipython",
    "version": 3
   },
   "file_extension": ".py",
   "mimetype": "text/x-python",
   "name": "python",
   "nbconvert_exporter": "python",
   "pygments_lexer": "ipython3",
   "version": "3.7.4"
  }
 },
 "nbformat": 4,
 "nbformat_minor": 2
}
